{
 "cells": [
  {
   "cell_type": "code",
   "execution_count": 1,
   "metadata": {},
   "outputs": [],
   "source": [
    "import numpy as np\n",
    "import pandas as pd\n",
    "from scipy.optimize import fmin_cg"
   ]
  },
  {
   "cell_type": "code",
   "execution_count": 2,
   "metadata": {},
   "outputs": [
    {
     "name": "stdout",
     "output_type": "stream",
     "text": [
      "number of users :1892\n",
      "number of artists :17632\n"
     ]
    }
   ],
   "source": [
    "plays = pd.io.json.read_json(\"json/lastfm_plays.json\", lines = True)\n",
    "artists = pd.io.json.read_json(\"json/lastfm_artists.json\", lines = True)\n",
    "\n",
    "num_users = len(plays.user_id.value_counts())\n",
    "num_artists = len(artists.artist_id)\n",
    "num_features = 10\n",
    "\n",
    "lambd = 0 # regularization param\n",
    "\n",
    "print(\"number of users :\" + str(num_users))\n",
    "print(\"number of artists :\" + str(num_artists))\n",
    "\n",
    "user_dict = {}   # map of user_id to an index value\n",
    "i = 0\n",
    "for id in sorted(list(set(plays.user_id))):\n",
    "    user_dict[id] = i\n",
    "    i += 1\n",
    "\n",
    "artist_dict = {}   # map of artist_id to an index value\n",
    "i = 0\n",
    "for id in sorted(list(set(artists.artist_id))):\n",
    "    artist_dict[id] = i\n",
    "    i += 1\n",
    "    \n",
    "assert(len(user_dict) == num_users)\n",
    "assert(len(artist_dict) == num_artists)"
   ]
  },
  {
   "cell_type": "code",
   "execution_count": 3,
   "metadata": {},
   "outputs": [],
   "source": [
    "# R = np.zeros((num_artists, num_users))\n",
    "# Y = np.zeros((num_artists, num_users))\n",
    "# for i in range(plays.shape[0]):\n",
    "#     if i % 1000 == 0:\n",
    "#         print(i)\n",
    "#     R[artist_dict[plays.loc[i][\"artist_id\"]], user_dict[plays.loc[i][\"user_id\"]]] = 1\n",
    "#     Y[artist_dict[plays.loc[i][\"artist_id\"]], user_dict[plays.loc[i][\"user_id\"]]] = plays.loc[i][\"plays\"]\n",
    "\n",
    "# np.save(\"temp/r\", R)\n",
    "# np.save(\"temp/y\", Y)\n",
    "\n",
    "R = np.load(\"temp/R.npy\")\n",
    "Y = np.load(\"temp/Y.npy\")\n",
    "\n",
    "assert(Y[artist_dict[1109], user_dict[2100]] == 1333.0)"
   ]
  },
  {
   "cell_type": "code",
   "execution_count": 4,
   "metadata": {},
   "outputs": [],
   "source": [
    "X = np.random.randn(num_artists, num_features)\n",
    "theta = np.random.randn(num_users, num_features)\n",
    "\n",
    "# print(X)\n",
    "\n",
    "param = np.ndarray.flatten(np.concatenate((np.reshape(X, (num_artists*num_features, 1)), np.reshape(theta, (num_users*num_features, 1)))))\n",
    "\n",
    "X, theta = np.split(param, [num_artists*num_features])    \n",
    "\n",
    "# print(X)\n",
    "# print(np.reshape(X, (num_artists, num_features)))\n",
    "# param = np.asarray((X, theta))\n",
    "# X, theta = np.split(param, [num_artists])"
   ]
  },
  {
   "cell_type": "code",
   "execution_count": 5,
   "metadata": {},
   "outputs": [],
   "source": [
    "def costFunc(param, *args):\n",
    "    \n",
    "    Y, R, lambd, num_artists, num_users, num_features = args\n",
    "\n",
    "    X, theta = np.split(param, [num_artists*num_features])    \n",
    "#     X, theta = param\n",
    "    X = np.reshape(X, (num_artists, num_features))\n",
    "    theta = np.reshape(theta, (num_users, num_features))\n",
    "    \n",
    "    temp = np.multiply(np.transpose(np.matmul(theta, np.transpose(X))) - Y, R)\n",
    "\n",
    "    J = np.sum(np.sum(np.square(temp)))/2\n",
    "    # adding the regularization term\n",
    "    J += (lambd / 2)*(np.sum(np.sum(np.square(X))) + np.sum(np.sum(np.square(theta))))\n",
    "    return J\n",
    "\n",
    "def gradsFunc(param, *args):\n",
    "    \n",
    "    Y, R, lambd, num_artists, num_users, num_features = args\n",
    "\n",
    "    X, theta = np.split(param, [num_artists*num_features])\n",
    "#     X, theta = param\n",
    "    X = np.reshape(X, (num_artists, num_features))\n",
    "    theta = np.reshape(theta, (num_users, num_features))\n",
    "    \n",
    "    c = np.multiply(np.transpose(np.matmul(theta, np.transpose(X))) - Y, R)\n",
    "    \n",
    "    X_grad = np.matmul(c, theta) + lambd*X\n",
    "    theta_grad = np.matmul(np.transpose(c), X) + lambd*theta\n",
    "    \n",
    "    return np.ndarray.flatten(np.concatenate((np.reshape(X_grad, (num_artists*num_features, 1)), np.reshape(theta_grad, (num_users*num_features, 1)))))"
   ]
  },
  {
   "cell_type": "code",
   "execution_count": 6,
   "metadata": {},
   "outputs": [],
   "source": [
    "def normalize(Y, R):\n",
    "    m, n = Y.shape\n",
    "    Ymean = np.zeros((m, 1), dtype='float32')\n",
    "    Ynorm = np.zeros((m, n), dtype='float32')\n",
    "    for i in range(m):\n",
    "        idx = np.nonzero(R[i,:])\n",
    "        Ymean[i, 0] = np.mean(np.ndarray.flatten(Y[i, idx]))\n",
    "        Ynorm[i, idx] = Y[i, idx] - Ymean[i, 0]\n",
    "    return Ynorm, Ymean"
   ]
  },
  {
   "cell_type": "code",
   "execution_count": 8,
   "metadata": {},
   "outputs": [
    {
     "name": "stdout",
     "output_type": "stream",
     "text": [
      "626644724166.1815\n",
      "(176320,)\n",
      "(17632, 10)\n"
     ]
    }
   ],
   "source": [
    "Ynorm, Ymean = normalize(Y, R)\n",
    "J = costFunc(param, Ynorm, R, lambd, num_artists, num_users, num_features)\n",
    "grads = gradsFunc(param, Y, R, lambd, num_artists, num_users, num_features)\n",
    "# X_grad, theta_grad = np.split(grads, [num_artists])\n",
    "X_grad, theta_grad = np.split(grads, [num_artists*num_features])\n",
    "X_grad = np.reshape(X_grad, (num_artists, num_features))\n",
    "theta_grad = np.reshape(theta_grad, (num_users, num_features))\n",
    "print(J)\n",
    "print(X.shape)\n",
    "print(X_grad.shape)\n",
    "# assert(X.shape == X_grad.shape)\n",
    "# assert(theta.shape == theta_grad.shape)"
   ]
  },
  {
   "cell_type": "code",
   "execution_count": 12,
   "metadata": {},
   "outputs": [
    {
     "name": "stdout",
     "output_type": "stream",
     "text": [
      "(17632, 1892)\n"
     ]
    }
   ],
   "source": [
    "print(Ynorm.shape)"
   ]
  },
  {
   "cell_type": "code",
   "execution_count": 20,
   "metadata": {
    "scrolled": true
   },
   "outputs": [
    {
     "name": "stdout",
     "output_type": "stream",
     "text": [
      "Warning: Maximum number of iterations has been exceeded.\n",
      "         Current function value: 6847680101.122496\n",
      "         Iterations: 1000\n",
      "         Function evaluations: 1476\n",
      "         Gradient evaluations: 1476\n"
     ]
    }
   ],
   "source": [
    "# Ynorm, Ymean = normalize(Y, R)\n",
    "# args = Ynorm, R, lambd, num_artists, num_users, num_features\n",
    "loaded_param = np.load(\"temp/params.npy\")\n",
    "optimised_param = fmin_cg(costFunc, x0 = loaded_param, fprime = gradsFunc, args = args, maxiter = 1000)"
   ]
  },
  {
   "cell_type": "code",
   "execution_count": 24,
   "metadata": {},
   "outputs": [
    {
     "name": "stdout",
     "output_type": "stream",
     "text": [
      "[  0.16253402   2.18776473  -5.43684085 ...  -8.4580799  -17.04482914\n",
      "   5.50054983]\n",
      "[-0.27042525  0.4475314  -0.92153093 ... -0.6506772   0.62353092\n",
      " -0.40155027]\n"
     ]
    }
   ],
   "source": [
    "print(optimised_param)\n",
    "print(param)"
   ]
  },
  {
   "cell_type": "code",
   "execution_count": 25,
   "metadata": {},
   "outputs": [],
   "source": [
    "np.save(\"temp/params\", optimised_param)"
   ]
  },
  {
   "cell_type": "code",
   "execution_count": 26,
   "metadata": {},
   "outputs": [],
   "source": [
    "X, theta = np.split(loaded_param, [num_artists*num_features])\n",
    "X = np.reshape(X, (num_artists, num_features))\n",
    "theta = np.reshape(theta, (num_users, num_features))"
   ]
  },
  {
   "cell_type": "code",
   "execution_count": 27,
   "metadata": {},
   "outputs": [],
   "source": [
    "predictions = np.matmul(X, theta.T) + Ymean"
   ]
  },
  {
   "cell_type": "code",
   "execution_count": 37,
   "metadata": {},
   "outputs": [
    {
     "name": "stdout",
     "output_type": "stream",
     "text": [
      "13883.0\n",
      "13932.229345555032\n"
     ]
    }
   ],
   "source": [
    "print(Y[artist_dict[51],user_dict[2]])\n",
    "print(predictions[artist_dict[51],user_dict[2]])"
   ]
  },
  {
   "cell_type": "code",
   "execution_count": 38,
   "metadata": {},
   "outputs": [],
   "source": [
    "artist_idx_to_id = {}\n",
    "\n",
    "for k, v in artist_dict.items():\n",
    "    artist_idx_to_id[v] = k\n"
   ]
  },
  {
   "cell_type": "code",
   "execution_count": 95,
   "metadata": {},
   "outputs": [
    {
     "name": "stdout",
     "output_type": "stream",
     "text": [
      "recommended artists were are never listened to\n",
      "['Viking Quest', 'Tyler Adam', 'Rytmus', 'Thalía', 'Wanessa', 'Johnny Hallyday', 'Dicky Dixon', 'Taylor Swift', 'RICHARD DIXON-COMPOSER', '浜崎あゆみ']\n",
      "actual most played artists\n",
      "['Coldplay', 'Muse', 'Radiohead', 'The Beatles', 'Daft Punk', 'Kings of Leon', 'The Killers', 'Florence + the Machine', 'Arctic Monkeys', 'David Guetta']\n"
     ]
    }
   ],
   "source": [
    "# top 10 other artists a user might like\n",
    "\n",
    "top_p_ids = []\n",
    "\n",
    "user = user_dict[315]\n",
    "\n",
    "for i in np.argsort(np.ndarray.flatten(predictions[:, user]))[::-1]:\n",
    "    if R[i, user] == 0:\n",
    "        top_p_ids.append(artist_idx_to_id[i])\n",
    "    if len(top_p_ids) >= 10:\n",
    "        break\n",
    "\n",
    "top_pred_artists = [list(artists.loc[artists.artist_id == i][\"name\"])[0] for i in top_p_ids]\n",
    "print(\"recommended artists were are never listened to\")\n",
    "print(top_pred_artists)\n",
    "\n",
    "\n",
    "top_a_ids = []\n",
    "for i in np.argsort(Y[:, user])[::-1]:\n",
    "    top_a_ids.append(artist_idx_to_id[i])\n",
    "    if len(top_a_ids) >= 10:\n",
    "        break\n",
    "\n",
    "top_actual_artists = [list(artists.loc[artists.artist_id == i][\"name\"])[0] for i in top_a_ids]\n",
    "print(\"actual most played artists\")\n",
    "print(top_actual_artists)"
   ]
  },
  {
   "cell_type": "code",
   "execution_count": null,
   "metadata": {},
   "outputs": [],
   "source": []
  }
 ],
 "metadata": {
  "kernelspec": {
   "display_name": "Python 3",
   "language": "python",
   "name": "python3"
  },
  "language_info": {
   "codemirror_mode": {
    "name": "ipython",
    "version": 3
   },
   "file_extension": ".py",
   "mimetype": "text/x-python",
   "name": "python",
   "nbconvert_exporter": "python",
   "pygments_lexer": "ipython3",
   "version": "3.6.4"
  }
 },
 "nbformat": 4,
 "nbformat_minor": 2
}
